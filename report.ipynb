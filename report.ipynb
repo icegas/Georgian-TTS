{
 "cells": [
  {
   "cell_type": "code",
   "execution_count": 3,
   "metadata": {},
   "outputs": [],
   "source": [
    "import torch\n",
    "import numpy as np\n",
    "import pandas as pd\n",
    "\n",
    "from tqdm.notebook import tqdm\n",
    "import IPython.display as ipd\n",
    "import matplotlib.pyplot as plt\n",
    "import plotly.express as px\n",
    "\n",
    "from texts import test_text, poem_texts\n",
    "from utils import inference\n",
    "\n",
    "device = 'cuda:1'\n",
    "SAMPLE_RATE = 22050"
   ]
  },
  {
   "cell_type": "markdown",
   "metadata": {},
   "source": [
    "# Generation of test samples"
   ]
  },
  {
   "cell_type": "markdown",
   "metadata": {},
   "source": [
    "## Generating hard long samples"
   ]
  },
  {
   "cell_type": "code",
   "execution_count": null,
   "metadata": {},
   "outputs": [],
   "source": [
    "for text in poem_texts:\n",
    "    audio = inference(text, speed=1.0)\n",
    "    ipd.display(ipd.Audio(audio[0, 0, 0]), rate=SAMPLE_RATE)"
   ]
  },
  {
   "cell_type": "markdown",
   "metadata": {},
   "source": [
    "## Generating sample with different speed"
   ]
  },
  {
   "cell_type": "code",
   "execution_count": null,
   "metadata": {},
   "outputs": [],
   "source": [
    "for speed in [0.7, 1.0, 1.3]:\n",
    "    audio = inference(test_text, speed=speed)\n",
    "    ipd.display(ipd.Audio(audio[0, 0, 0]), rate=SAMPLE_RATE)"
   ]
  },
  {
   "cell_type": "markdown",
   "metadata": {},
   "source": [
    "# Quality estimation"
   ]
  },
  {
   "cell_type": "markdown",
   "metadata": {},
   "source": [
    "## Loading Mean Opinion Score (MOS) estimator\n",
    "MOS - metric for audio quality estimation, range is between [0-5] 0 - Bad quality, 5 - Perfect quality.\n",
    "\n",
    "Actually it was trained on English language, but i've found that for other languages it also correlates with quality.\n",
    "P.S. it is expensive to train on Georgian, from my research i found that for Georgian language greater than 3.5 is already ok using this model."
   ]
  },
  {
   "cell_type": "code",
   "execution_count": 4,
   "metadata": {},
   "outputs": [
    {
     "name": "stderr",
     "output_type": "stream",
     "text": [
      "Using cache found in /home/icegas/.cache/torch/hub/tarepan_SpeechMOS_v1.2.0\n",
      "/home/icegas/anaconda3/envs/nn/lib/python3.10/site-packages/torch/nn/utils/weight_norm.py:28: UserWarning: torch.nn.utils.weight_norm is deprecated in favor of torch.nn.utils.parametrizations.weight_norm.\n",
      "  warnings.warn(\"torch.nn.utils.weight_norm is deprecated in favor of torch.nn.utils.parametrizations.weight_norm.\")\n"
     ]
    },
    {
     "name": "stdout",
     "output_type": "stream",
     "text": [
      "\n"
     ]
    }
   ],
   "source": [
    "device = 'cpu'\n",
    "predictor = torch.hub.load(\"tarepan/SpeechMOS:v1.2.0\", \"utmos22_strong\", trust_repo=True)\n",
    "predictor = predictor.to(device)\n",
    "predictor.eval()\n",
    "print(\"MOS estimator Loaded!\")"
   ]
  },
  {
   "cell_type": "markdown",
   "metadata": {},
   "source": [
    "Loading test text phrases"
   ]
  },
  {
   "cell_type": "code",
   "execution_count": 5,
   "metadata": {},
   "outputs": [],
   "source": [
    "with open('test_texts.txt', 'r') as f:\n",
    "    texts = f.readlines()"
   ]
  },
  {
   "cell_type": "markdown",
   "metadata": {},
   "source": [
    "1. Estimation of mos scores for each sample\n",
    "2. Plotting histogram for scores"
   ]
  },
  {
   "cell_type": "code",
   "execution_count": null,
   "metadata": {},
   "outputs": [],
   "source": [
    "moses = []\n",
    "for t in texts:\n",
    "    #estimation with normal speed\n",
    "    audio = inference(t, speed=1.0)\n",
    "    moses.append(\n",
    "        torch.from_numpy(\n",
    "            audio[0][0, 0]\n",
    "        )\n",
    "    )"
   ]
  },
  {
   "cell_type": "code",
   "execution_count": null,
   "metadata": {},
   "outputs": [],
   "source": [
    "fig = px.histogram(x=moses)\n",
    "fig.show()"
   ]
  },
  {
   "cell_type": "markdown",
   "metadata": {},
   "source": [
    "# Performance analysis"
   ]
  },
  {
   "cell_type": "markdown",
   "metadata": {},
   "source": [
    "1. Creating dataframe for 32, 64, 256, 512 characters\n",
    "2. Adding results for cpu and gpu (i9 and RTX 4090 (24GB))\n",
    "3. Plotting results"
   ]
  },
  {
   "cell_type": "code",
   "execution_count": null,
   "metadata": {},
   "outputs": [],
   "source": [
    "from time import time\n",
    "df = {\n",
    "    'device' : [], \n",
    "    'number of characters' : [], \n",
    "    'inference time' : [],\n",
    "    'duration in seconds' : []\n",
    "}\n",
    "#Number of experiments for each \n",
    "#number of characters\n",
    "run_samples = 100\n",
    "character_sizes = [32, 64, 256, 512]\n",
    "text = poem_texts[0]\n",
    "\n",
    "for device in ['cpu', 'cuda:1']:\n",
    "    for ch_size in tqdm(character_sizes):\n",
    "        input_text = text[:ch_size]\n",
    "\n",
    "        for _ in range(run_samples):\n",
    "            t = time()\n",
    "            audio = inference(input_text, speed=1.0)\n",
    "            dt = time() - t\n",
    "\n",
    "            df['device'].append(device)\n",
    "            df['number of characters'].append(ch_size)\n",
    "            df['inference time'].append(dt)\n",
    "            df['duration in seconds'].append(\n",
    "                audio.shape[-1] / SAMPLE_RATE\n",
    "            )\n",
    "df = pd.DataFrame(df)\n",
    "df.head(2)"
   ]
  },
  {
   "cell_type": "code",
   "execution_count": null,
   "metadata": {},
   "outputs": [],
   "source": [
    "fig = px.box(df, x='number of characters', y='inference time', color='device')\n",
    "fig.show()\n",
    "fig = px.box(df, x='duration in seconds', y='inference time', color='device')\n",
    "fig.show()"
   ]
  }
 ],
 "metadata": {
  "kernelspec": {
   "display_name": "tts_env",
   "language": "python",
   "name": "python3"
  },
  "language_info": {
   "codemirror_mode": {
    "name": "ipython",
    "version": 3
   },
   "file_extension": ".py",
   "mimetype": "text/x-python",
   "name": "python",
   "nbconvert_exporter": "python",
   "pygments_lexer": "ipython3",
   "version": "3.10.12"
  }
 },
 "nbformat": 4,
 "nbformat_minor": 2
}
